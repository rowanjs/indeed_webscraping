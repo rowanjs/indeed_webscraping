{
 "cells": [
  {
   "cell_type": "code",
   "execution_count": 34,
   "id": "67de624f",
   "metadata": {},
   "outputs": [],
   "source": [
    "import requests\n",
    "from selenium import webdriver\n",
    "from selenium.webdriver.common.keys import Keys\n",
    "import time"
   ]
  },
  {
   "cell_type": "code",
   "execution_count": 35,
   "id": "f19c8e2d",
   "metadata": {},
   "outputs": [],
   "source": [
    "#paste the full address for the chromedriver in path e.g. path = r'C:\\Users\\jason\\Documents\\chromedriver.exe'\n",
    "path = r'C:\\Users\\rowan\\OneDrive\\Documents\\13-web-scraping-beautifulsoup\\notebooks\\chromedriver.exe'\n",
    "URL = 'https://hk.indeed.com/'\n",
    "#input the role that you are looking for in search_keyword e.g. search_keyword='Web Developer'\n",
    "search_keyword = 'Financial Analyst'\n",
    "#if you are based in Hong Kong, there is no need to change this field otherwise you can change to other locations e.g. location = 'Singapore'\n",
    "location = 'Hong Kong'\n",
    "#number of pages you want to scrape e.g. n = 5 \n",
    "n = 3"
   ]
  },
  {
   "cell_type": "code",
   "execution_count": 36,
   "id": "531de583",
   "metadata": {},
   "outputs": [],
   "source": [
    "driver = webdriver.Chrome(executable_path = path)\n",
    "driver.get(URL)\n",
    "input_job = driver.find_element_by_id('text-input-what')\n",
    "input_loc = driver.find_element_by_id('text-input-where')\n",
    "input_job.send_keys(search_keyword)\n",
    "input_loc.send_keys(location)\n",
    "input_loc.send_keys(Keys.ENTER)\n",
    "driver.find_element_by_xpath('//div[@class=\"secondRow\"]//a[@rel = \"nofollow\"]').click()\n",
    "time.sleep(1)\n",
    "driver.find_element_by_xpath('//button[@aria-label =\"Close\"]').click()\n",
    "jobs = []\n",
    "company = []\n",
    "links = []\n",
    "for i in range(n):\n",
    "    findjob = driver.find_elements_by_xpath('//span[@title]')\n",
    "    for job in findjob:\n",
    "        jobs.append(job.text)\n",
    "    findco = driver.find_elements_by_xpath('//span[@class=\"companyName\"]')\n",
    "    for co in findco:\n",
    "        company.append(co.text)\n",
    "    findlink = driver.find_elements_by_xpath('//*[contains(@id,\"job_\") or contains(@id,\"sj_\")]')\n",
    "    for li in findlink:\n",
    "        links.append(li.get_attribute('href'))\n",
    "    driver.find_element_by_xpath('//ul[@class=\"pagination-list\"]//a[@aria-label=\"Next\"]').click() "
   ]
  },
  {
   "cell_type": "code",
   "execution_count": 37,
   "id": "64661335",
   "metadata": {},
   "outputs": [],
   "source": [
    "data = {'Title':[],'Company':[], 'Application link':[]}\n",
    "for j in jobs:\n",
    "    data.get('Title').append(j)\n",
    "for c in company:\n",
    "    data.get('Company').append(c)\n",
    "for l in links:\n",
    "    data.get('Application link').append(l)"
   ]
  },
  {
   "cell_type": "code",
   "execution_count": 38,
   "id": "0c06c98a",
   "metadata": {},
   "outputs": [],
   "source": [
    "import pandas as pd\n",
    "df = pd.DataFrame(data)"
   ]
  },
  {
   "cell_type": "code",
   "execution_count": 39,
   "id": "ed49f5fa",
   "metadata": {},
   "outputs": [
    {
     "data": {
      "text/html": [
       "<div>\n",
       "<style scoped>\n",
       "    .dataframe tbody tr th:only-of-type {\n",
       "        vertical-align: middle;\n",
       "    }\n",
       "\n",
       "    .dataframe tbody tr th {\n",
       "        vertical-align: top;\n",
       "    }\n",
       "\n",
       "    .dataframe thead th {\n",
       "        text-align: right;\n",
       "    }\n",
       "</style>\n",
       "<table border=\"1\" class=\"dataframe\">\n",
       "  <thead>\n",
       "    <tr style=\"text-align: right;\">\n",
       "      <th></th>\n",
       "      <th>Title</th>\n",
       "      <th>Company</th>\n",
       "      <th>Application link</th>\n",
       "    </tr>\n",
       "  </thead>\n",
       "  <tbody>\n",
       "    <tr>\n",
       "      <th>0</th>\n",
       "      <td>Analyst, Financial Control</td>\n",
       "      <td>Morgan McKinley</td>\n",
       "      <td>https://hk.indeed.com/pagead/clk?mo=r&amp;ad=-6NYl...</td>\n",
       "    </tr>\n",
       "    <tr>\n",
       "      <th>1</th>\n",
       "      <td>Analyst/Associate (Investment/Asset Manager)</td>\n",
       "      <td>Spring Professional (Hong Kong) Limited</td>\n",
       "      <td>https://hk.indeed.com/rc/clk?jk=0a328b8f1fd630...</td>\n",
       "    </tr>\n",
       "    <tr>\n",
       "      <th>2</th>\n",
       "      <td>Credit Risk Analyst - Top European Bank!</td>\n",
       "      <td>Michael Page HK</td>\n",
       "      <td>https://hk.indeed.com/rc/clk?jk=a00b7f86e71a81...</td>\n",
       "    </tr>\n",
       "    <tr>\n",
       "      <th>3</th>\n",
       "      <td>Regional Financial Reporting Analyst (listed M...</td>\n",
       "      <td>Ambition</td>\n",
       "      <td>https://hk.indeed.com/rc/clk?jk=5c53421ad0a12b...</td>\n",
       "    </tr>\n",
       "    <tr>\n",
       "      <th>4</th>\n",
       "      <td>Analyst, Investment Liaisons</td>\n",
       "      <td>T. Rowe Price</td>\n",
       "      <td>https://hk.indeed.com/rc/clk?jk=fa160c614edab6...</td>\n",
       "    </tr>\n",
       "  </tbody>\n",
       "</table>\n",
       "</div>"
      ],
      "text/plain": [
       "                                               Title  \\\n",
       "0                         Analyst, Financial Control   \n",
       "1       Analyst/Associate (Investment/Asset Manager)   \n",
       "2           Credit Risk Analyst - Top European Bank!   \n",
       "3  Regional Financial Reporting Analyst (listed M...   \n",
       "4                       Analyst, Investment Liaisons   \n",
       "\n",
       "                                   Company  \\\n",
       "0                          Morgan McKinley   \n",
       "1  Spring Professional (Hong Kong) Limited   \n",
       "2                          Michael Page HK   \n",
       "3                                 Ambition   \n",
       "4                            T. Rowe Price   \n",
       "\n",
       "                                    Application link  \n",
       "0  https://hk.indeed.com/pagead/clk?mo=r&ad=-6NYl...  \n",
       "1  https://hk.indeed.com/rc/clk?jk=0a328b8f1fd630...  \n",
       "2  https://hk.indeed.com/rc/clk?jk=a00b7f86e71a81...  \n",
       "3  https://hk.indeed.com/rc/clk?jk=5c53421ad0a12b...  \n",
       "4  https://hk.indeed.com/rc/clk?jk=fa160c614edab6...  "
      ]
     },
     "execution_count": 39,
     "metadata": {},
     "output_type": "execute_result"
    }
   ],
   "source": [
    "df.head()"
   ]
  },
  {
   "cell_type": "code",
   "execution_count": 40,
   "id": "2b088626",
   "metadata": {},
   "outputs": [],
   "source": [
    "#you can name your to-be-generated excel file e.g. df.to_csv('Financial_Analyst_20210903',index=False)\n",
    "#check in the folder where you placed this code and you should see your new excel file \n",
    "df.to_csv('Indeed_jobs',index=False) "
   ]
  },
  {
   "cell_type": "code",
   "execution_count": null,
   "id": "5272b297",
   "metadata": {},
   "outputs": [],
   "source": []
  }
 ],
 "metadata": {
  "kernelspec": {
   "display_name": "Python 3",
   "language": "python",
   "name": "python3"
  },
  "language_info": {
   "codemirror_mode": {
    "name": "ipython",
    "version": 3
   },
   "file_extension": ".py",
   "mimetype": "text/x-python",
   "name": "python",
   "nbconvert_exporter": "python",
   "pygments_lexer": "ipython3",
   "version": "3.8.8"
  }
 },
 "nbformat": 4,
 "nbformat_minor": 5
}
